{
 "cells": [
  {
   "cell_type": "code",
   "execution_count": 14,
   "id": "77b9a375",
   "metadata": {},
   "outputs": [],
   "source": [
    "from rapidocr import RapidOCR\n",
    "from PIL import Image\n",
    "import io\n",
    "import json\n",
    "from groq import Groq\n",
    "import base64\n",
    "import time\n",
    "import pymupdf\n",
    "from langchain_core.prompts import ChatPromptTemplate, MessagesPlaceholder\n",
    "from langchain_core.messages import HumanMessage,AIMessage\n",
    "from langchain.schema import BaseMessage\n",
    "from langchain.chat_models import init_chat_model\n",
    "from langchain.embeddings.huggingface import HuggingFaceEmbeddings\n",
    "from langchain.text_splitter import RecursiveCharacterTextSplitter\n",
    "from langchain.vectorstores import Chroma\n",
    "from langchain_core.documents import Document\n",
    "\n",
    "from typing import TypedDict,List\n",
    "from pydantic import BaseModel, Field\n",
    "\n",
    "import re\n",
    "import tabula\n",
    "from collections import Counter\n",
    "\n",
    "from langgraph.types import Command, interrupt\n",
    "from langgraph.graph import END, StateGraph\n",
    "from langgraph.checkpoint.memory import MemorySaver\n",
    "\n",
    "from werkzeug.utils import secure_filename\n",
    "from rank_bm25 import BM25Okapi\n",
    "import math"
   ]
  },
  {
   "cell_type": "code",
   "execution_count": 2,
   "id": "e0f46d96",
   "metadata": {},
   "outputs": [],
   "source": [
    "api_key = \"YOUR_GROQ_API_KEY\""
   ]
  },
  {
   "cell_type": "code",
   "execution_count": 3,
   "id": "07976c17",
   "metadata": {},
   "outputs": [],
   "source": [
    "class Parser:\n",
    "    def __init__(self,api_key:str):\n",
    "        self._api_key = api_key \n",
    "        self._engine = RapidOCR()\n",
    "        with open('./sources.json','r') as f:\n",
    "            self._sources = json.load(f)\n",
    "            \n",
    "    def _extract_captions_of_images(self,doc,page):\n",
    "        imgs = page.get_images()\n",
    "        client = Groq(api_key=self._api_key)\n",
    "        captions = {}\n",
    "\n",
    "        for i in range(len(imgs)):\n",
    "            print(\"...VLM Called...\",end=\"\")\n",
    "\n",
    "            xref = imgs[i][0]\n",
    "            base_image = doc.extract_image(xref)\n",
    "\n",
    "            #if image is unicolor that means it is either mask or artifact\n",
    "            if base_image['colorspace']==1:\n",
    "                continue\n",
    "\n",
    "            image_bytes = base_image[\"image\"]\n",
    "\n",
    "            image_ext = base_image[\"ext\"]\n",
    "\n",
    "            image = Image.open(io.BytesIO(image_bytes))\n",
    "            image = image.resize((360,180))\n",
    "            output = io.BytesIO()\n",
    "            # image\n",
    "            image.save(output, format=image_ext)\n",
    "            base64_image = base64.b64encode(output.getvalue()).decode('utf-8')\n",
    "\n",
    "            start_time = time.time()\n",
    "            chat_completion = client.chat.completions.create(\n",
    "                messages=[\n",
    "                    {\n",
    "                        \"role\": \"user\",\n",
    "                        \"content\": [\n",
    "                            {\"type\": \"text\", \"text\": \"Describe the image in no more than 100 words as much as possible/\"},\n",
    "                            {\n",
    "                                \"type\": \"image_url\",\n",
    "                                \"image_url\": {\n",
    "                                    \"url\": f\"data:image/jpeg;base64,{base64_image}\",\n",
    "                                },\n",
    "                            },\n",
    "                        ],\n",
    "                    }\n",
    "                ],\n",
    "                model=\"meta-llama/llama-4-scout-17b-16e-instruct\",\n",
    "            )\n",
    "\n",
    "            captions[f\"img_{xref}\"] = chat_completion.choices[0].message.content\n",
    "\n",
    "        return captions\n",
    "        \n",
    "    def _extract_using_ocr(self,page):\n",
    "        print(\"...OCR called...\",end=\"\")\n",
    "        img = page.get_pixmap()\n",
    "        image_bytes = img.tobytes()\n",
    "        image = Image.open(io.BytesIO(image_bytes))\n",
    "\n",
    "        if image.width > image.height:\n",
    "            image = image.rotate(90,expand=True)\n",
    "\n",
    "        image = image.resize((400,800))\n",
    "        result = self._engine(image)\n",
    "        text = \"\\n\".join(txt for txt in result.txts)\n",
    "        \n",
    "        return text\n",
    "\n",
    "    def _extract_text_excluding_tables(self,page):\n",
    "        tables = page.find_tables(strategy=\"lines_strict\")\n",
    "        table_bboxes = [table.bbox for table in tables]\n",
    "\n",
    "        def is_inside_any_table_bbox(bbox):\n",
    "            for table_bbox in table_bboxes:\n",
    "                # print(table_bbox)\n",
    "                if pymupdf.Rect(table_bbox).intersects(pymupdf.Rect(bbox)):\n",
    "                    return True\n",
    "            return False\n",
    "\n",
    "        blocks = page.get_text(\"blocks\")  \n",
    "        filtered_text = [\n",
    "            block[4] for block in blocks\n",
    "            if not is_inside_any_table_bbox(block[:4])\n",
    "        ]\n",
    "\n",
    "        return \"\\n\".join(filtered_text)\n",
    "    \n",
    "    def _extract_table_content(self,page):\n",
    "        tables = page.find_tables()\n",
    "        tables_list = [table.to_markdown() for table in tables]\n",
    "\n",
    "        text = \"\\n\".join(text for text in tables_list)\n",
    "\n",
    "        return text\n",
    "    def _get_table_from_pg(self,pdf_path,pg):\n",
    "        tables = tabula.read_pdf(pdf_path,pages=str(pg+1),multiple_tables=True)\n",
    "        return tables\n",
    "    \n",
    "    def _extract_formulas_from_text(self,text):\n",
    "        formulas = []\n",
    "\n",
    "        # 1. LaTeX inline math: $...$\n",
    "        inline_latex = re.findall(r'\\$(.+?)\\$', text)\n",
    "        formulas.extend([f.strip() for f in inline_latex])\n",
    "\n",
    "        # 2. LaTeX display math: \\[...\\]\n",
    "        display_latex = re.findall(r'\\\\\\[(.+?)\\\\\\]', text, flags=re.DOTALL)\n",
    "        formulas.extend([f.strip() for f in display_latex])\n",
    "\n",
    "        # 3. LaTeX equation environments\n",
    "        env_latex = re.findall(r'\\\\begin{equation\\*?}(.+?)\\\\end{equation\\*?}', text, flags=re.DOTALL)\n",
    "        formulas.extend([f.strip() for f in env_latex])\n",
    "\n",
    "        # 4. LaTeX align environments\n",
    "        align_envs = re.findall(r'\\\\begin{align\\*?}(.+?)\\\\end{align\\*?}', text, flags=re.DOTALL)\n",
    "        formulas.extend([f.strip() for f in align_envs])\n",
    "\n",
    "        # 5. ASCII/Unicode math heuristics (e.g., x^2 + y^2 = z^2 or x² + y² = z²)\n",
    "        # Look for lines with multiple math symbols or variables\n",
    "        math_lines = []\n",
    "        for line in text.splitlines():\n",
    "            if re.search(r'[a-zA-Z0-9][\\^²³√±*/=<>+\\-]+[a-zA-Z0-9]', line):\n",
    "                if len(line.strip()) > 5:  # avoid noise\n",
    "                    math_lines.append(line.strip())\n",
    "\n",
    "        # Filter duplicates and obvious non-formulas\n",
    "        for line in math_lines:\n",
    "            if line not in formulas and not line.startswith('Figure') and '=' in line:\n",
    "                formulas.append(line)\n",
    "\n",
    "        return formulas\n",
    "    \n",
    "    \n",
    "    def _common_font_size(self,pdf_path):\n",
    "        doc = pymupdf.open(pdf_path)\n",
    "        font_sizes = []\n",
    "\n",
    "        for page in doc:\n",
    "            blocks = page.get_text(\"dict\")[\"blocks\"]\n",
    "            for b in blocks:\n",
    "                if \"lines\" in b:\n",
    "                    for line in b[\"lines\"]:\n",
    "                        for span in line[\"spans\"]:\n",
    "                            font_sizes.append(span[\"size\"])\n",
    "        counter = Counter(font_sizes)\n",
    "        return counter.most_common()[0][0]\n",
    "\n",
    "    def _format_headings(self,headings):\n",
    "        prev_y = 0\n",
    "        result = \"\"\n",
    "        for heading in headings:\n",
    "            if heading['bbox'][1]!=prev_y:\n",
    "                result += \"\\n\"\n",
    "            result+=heading['text']+\" \"\n",
    "            prev_y = heading['bbox'][1]\n",
    "        return result\n",
    "\n",
    "    def _get_headings(self,page,comm_font_size):\n",
    "        headings = []\n",
    "        blocks = page.get_text(\"dict\")[\"blocks\"]\n",
    "        for block in blocks:\n",
    "            for line in block.get(\"lines\", []):\n",
    "                for span in line.get(\"spans\", []):\n",
    "                    font_size = round(span.get(\"size\", 0))\n",
    "                    font_flags = span.get(\"flags\", 0)\n",
    "                    text = span.get(\"text\", \"\").strip()\n",
    "\n",
    "                        # Skip empty strings\n",
    "                    if not text:\n",
    "                        continue\n",
    "\n",
    "                        # Heuristic: large font size is probably a heading\n",
    "                    if font_size > round(comm_font_size) or (font_size == round(comm_font_size) and (font_flags & pymupdf.TEXT_FONT_BOLD or \"Bold\" in span.get(\"font\", \"\"))):\n",
    "                        headings.append({\n",
    "                            \"text\": text,\n",
    "                            \"size\": font_size,\n",
    "                            \"font\": span.get(\"font\"),\n",
    "                            \"flags\": font_flags,\n",
    "                            \"bbox\": span.get(\"bbox\"),\n",
    "                        })\n",
    "\n",
    "        return self._format_headings(headings)\n",
    "\n",
    "\n",
    "    def parse_pdf(self,path):\n",
    "        global log_messages\n",
    "        log_messages.append(\"Parsing the pdf\")\n",
    "        doc = pymupdf.open(path)\n",
    "        parsed = []\n",
    "        comm_font_size = self._common_font_size(path)\n",
    "        \n",
    "        title=''\n",
    "        source=''\n",
    "        check = path.split('/')[-1]\n",
    "        for d in self._sources:\n",
    "            if d['path'].split('/')[-1]==check:\n",
    "                title = d['title']\n",
    "                source = d['url']\n",
    "                break\n",
    "\n",
    "        for i in range(doc.page_count):\n",
    "            print(f\"Page {i+1}\",end=\"\")\n",
    "\n",
    "            full_pg = {}\n",
    "            start_time = time.time()\n",
    "            pg = doc.load_page(i)\n",
    "\n",
    "            text = self._extract_text_excluding_tables(pg)\n",
    "            \n",
    "            if text == \"\" or text == []:\n",
    "                text = self._extract_using_ocr(pg)\n",
    "                img = {}\n",
    "                table = \"\"\n",
    "            else:\n",
    "#                 img = self._extract_captions_of_images(doc,pg)\n",
    "                img = {}\n",
    "                table = self._extract_table_content(pg)\n",
    "#                 table = self._get_table_from_pg(path,i)\n",
    "                headings = self._get_headings(pg,comm_font_size)\n",
    "\n",
    "            full_pg['text'] = text\n",
    "            full_pg['tables'] = table\n",
    "            full_pg['imgs'] = img\n",
    "            full_pg['title'] = title\n",
    "            full_pg['source'] = source\n",
    "            full_pg['page'] = i+1\n",
    "            full_pg['headings'] = headings\n",
    "            full_pg['formulas'] = self._extract_formulas_from_text(text)\n",
    "        \n",
    "            parsed.append(full_pg)\n",
    "            print(f\"..Done.. {time.time()-start_time}\")\n",
    "\n",
    "        log_messages.append(\"PDF parsed\")\n",
    "        return parsed\n",
    "    "
   ]
  },
  {
   "cell_type": "code",
   "execution_count": 4,
   "id": "4f0d1ee0",
   "metadata": {},
   "outputs": [],
   "source": [
    "parser = Parser(api_key=api_key)"
   ]
  },
  {
   "cell_type": "code",
   "execution_count": 5,
   "id": "cd5e4aed",
   "metadata": {},
   "outputs": [],
   "source": [
    "pdf_dir = \"./industrial-safety-pdfs/\"\n",
    "pdfs = [pdf for pdf in os.listdir(pdf_dir)]"
   ]
  },
  {
   "cell_type": "code",
   "execution_count": null,
   "id": "09e318d5",
   "metadata": {
    "scrolled": true
   },
   "outputs": [],
   "source": []
  },
  {
   "cell_type": "code",
   "execution_count": 10,
   "id": "90a31863",
   "metadata": {},
   "outputs": [
    {
     "name": "stdout",
     "output_type": "stream",
     "text": [
      "Page 1..Done.. 0.11742711067199707\n",
      "Page 2..Done.. 0.64566969871521\n",
      "Page 3..Done.. 0.3139228820800781\n",
      "Page 4..Done.. 0.32817888259887695\n",
      "Page 5..Done.. 0.6780681610107422\n",
      "Page 6..Done.. 0.605309247970581\n",
      "Page 7..Done.. 0.5846920013427734\n",
      "Page 8..Done.. 0.38138699531555176\n",
      "Page 9..Done.. 0.8398590087890625\n",
      "Page 10..Done.. 0.9786009788513184\n",
      "Page 11..Done.. 0.5797948837280273\n",
      "Page 12..Done.. 1.30265212059021\n",
      "Page 13..Done.. 0.7391400337219238\n",
      "Page 14..Done.. 0.2436528205871582\n",
      "Page 15..Done.. 1.9310309886932373\n",
      "Page 16..Done.. 0.14016103744506836\n",
      "Page 17..Done.. 0.32975292205810547\n",
      "Page 18..Done.. 0.18933916091918945\n",
      "Page 19..Done.. 0.9437332153320312\n",
      "Page 20..Done.. 0.04095196723937988\n"
     ]
    }
   ],
   "source": [
    "pdf_path = './industrial-safety-pdfs/EN_ISO_13849-1_2TLC172003B02002.pdf'\n",
    "result = parser.parse_pdf(pdf_path)"
   ]
  },
  {
   "cell_type": "code",
   "execution_count": 11,
   "id": "cefa002c",
   "metadata": {},
   "outputs": [
    {
     "data": {
      "text/plain": [
       "{'text': 'Safety in control systems according to EN ISO 13849-1 | 5\\n\\na\\n\\nb\\n\\nc\\n\\nd\\n\\ne\\n\\nPLr\\n\\n)\\x14\\n\\n)\\x15\\n\\n)\\x14\\n\\n)\\x15\\n\\n3\\x14\\n\\n3\\x15\\n\\n3\\x14\\n\\n3\\x15\\n\\n3\\x14\\n\\n3\\x15\\n\\n3\\x14\\n\\n3\\x15\\n\\nRisk estimation\\n\\nTo calculate the performance level required (PLr).\\n\\nS \\n Severity of injury\\nS1 \\n slight (normally reversible injury)\\nS2 \\nserious (normally irreversible injury or death)\\n\\nF \\n Frequency and/or exposure to hazard\\nF1 \\nseldom to less often and/or exposure time is short\\nF2 \\nfrequent to continuous and/or exposure time is long\\n\\nP \\n Possibility of avoiding hazard or limiting harm\\nP1 \\npossible under specific conditions\\nP2 \\nscarcely possible\\n\\nStep 3 - Design and calculate the safety functions\\nTo begin with you need to identify the safety functions on the \\nmachine. (Examples of safety functions are emergency stop \\nand monitoring of gate.)\\n\\nFor each safety function, a PLr should be established \\n(which has often already been made in the risk assessment). \\nThe solution for the safety function is then designed and \\nimplemented. Once the design is complete, you can \\ncalculate the PL the safety function achieves. Check that the \\ncalculated PL is at least as high as PLr and then validate the \\nsystem as per the validation plan. The validation checks that \\nthe specification of the system is carried out correctly and \\nthat the design complies with the specification.You will also \\nneed to verify that the requirements that are not included in \\nthe calculation of the PL are satisfied, that is, ensure that the \\nsoftware is properly developed and validated, and that you \\nhave taken adequate steps to protect the technical solution \\nfrom systematic errors.\\n\\nStep 2 – Reduce the risk\\nIf you determine that risk reduction is required, you must \\ncomply with the priority in the Machinery Directive in the \\nselection of measures:\\n\\n1.  Avoid the risk already at the design stage.  \\n\\n(For example, reduce power, avoid interference in the danger \\nzone.)\\n\\n2.  Use protection and/or safety devices.  \\n\\n(For example, fences, light grids or control devices.)\\n\\n3.  Provide information about how the machine can be used \\n\\nsafely. (For example, in manuals and on signs.)\\n\\nIf risk reduction is performed using safety devices, the \\ncontrol system that monitors these needs to be designed as \\nspecified in EN\\xa0ISO\\xa013849-1.\\n\\nNo\\n\\nYes\\n\\nYes\\n\\nStep 3\\n\\nlow risk\\n\\nhigh risk\\n\\nVerify that\\n\\nPL ≥ PLr\\n\\nIdentify the safety functions\\n\\nDetermine PLr\\n\\nDesign and implement the \\nsolution for the safety function\\n\\nCalculate PL\\n\\nValidate\\nHave other \\nrequire ments \\n\\nbeen met?\\n\\nAre all safety functions executed?\\n\\nNo\\n',\n",
       " 'tables': '',\n",
       " 'imgs': {},\n",
       " 'page': 5,\n",
       " 'headings': '\\na \\nb \\nc \\nd \\ne \\nPL \\n) \\n) \\n) \\n) \\n6 \\n6 \\n3 \\n3 \\n3 \\n3 \\n3 \\n3 \\n3 \\n3 \\n1. \\n2. \\n3. \\nYes ',\n",
       " 'formulas': []}"
      ]
     },
     "execution_count": 11,
     "metadata": {},
     "output_type": "execute_result"
    }
   ],
   "source": [
    "result[4]"
   ]
  },
  {
   "cell_type": "code",
   "execution_count": 8,
   "id": "acd9f506",
   "metadata": {
    "scrolled": true
   },
   "outputs": [
    {
     "name": "stdout",
     "output_type": "stream",
     "text": [
      "2 | Safety in control systems according to EN ISO 13849-1\n",
      "\n",
      "New standards for safety \n",
      "in control systems\n",
      "\n",
      "Building a protection system that works in practice and provides sufficient safety requires expertise in several areas. \n",
      "The design of the safety functions in the protection system in order to ensure they provide sufficient reliability is a \n",
      "key ingredient. As help for this there is, for example, the EN ISO 13849-1 standard. With this document we aim to \n",
      "provide an introduction to the standard and its application in conjunction with our products.\n",
      "\n",
      "Introducing the new standard\n",
      "\n",
      "The generation change for standards on safety in control \n",
      "systems introduces new concepts and calculations for \n",
      "machine builders and machine users. The EN 954-1 standard \n",
      "(categories) is being phased out and replaced by EN ISO \n",
      "13849-1 (PL, Performance Level) and EN 62061 (SIL, Safety \n",
      "Integrity Level). Although the deadline for using EN 954-1 is \n",
      "set to 31/12/2011, it is beneficial to start applying the new \n",
      "standards as soon as possible as many new standards no \n",
      "longer refer to EN 954-1.\n",
      "\n",
      "PL or SIL? What should I use?\n",
      "\n",
      "The standard you should use depends on the choice of \n",
      "technology, experience and customer requirements. \n",
      "\n",
      "Choice of technology\n",
      "• PL (Performance Level) is a technology-neutral concept \n",
      "\n",
      "that can be used for electrical, mechanical, pneumatic and \n",
      "hydraulic safety solutions. \n",
      "• SIL (Safety Integrity Level) can, however, only be used for \n",
      "\n",
      "electrical, electronic or programmable safety solutions.\n",
      "\n",
      "Experience\n",
      "EN ISO 13849-1 uses categories from EN 954-1 for defining \n",
      "the system structure, and therefore the step to the new \n",
      "calculations is not so great if you have previous experience \n",
      "of the categories. EN 62061 defines the structures slightly \n",
      "differently.\n",
      "\n",
      "Customer requirements \n",
      "If the customer comes from an industry that is accustomed \n",
      "to using SIL (e.g. the process industry), requirements can \n",
      "also include safety functions for machine safety being SIL \n",
      "rated.\n",
      "\n",
      "We notice that most of our customers prefer PL as it is \n",
      "technology-neutral and that they can use their previous \n",
      "knowledge in the categories. In this document we show \n",
      "some examples of how to build safety solutions in \n",
      "accordance with EN ISO 13849-1 and calculate the reliability \n",
      "of the safety functions to be used for a particular machine. \n",
      "The examples in this document are simplified in order to \n",
      "provide an understanding of the principles. The values used \n",
      "in the examples can change. \n",
      "\n",
      "What is PL (Performance Level)?\n",
      "\n",
      "PL is a measure of the reliability of a safety function. PL is \n",
      "divided into five levels (a-e). PL e gives the best reliability and \n",
      "is equivalent to that required at the highest level of risk. \n",
      "\n",
      "To calculate which level the PL system achieves you \n",
      "need to know the following:\n",
      "• The system’s structure (categories B, 1-4)\n",
      "• The Mean Time To dangerous Failure of the component \n",
      "\n",
      "(MTTFd)\n",
      "• The system’s Diagnostic Coverage (DC)\n",
      "\n",
      "You will also need to:\n",
      "• protect the system against a failure that knocks out both \n",
      "\n",
      "channels (CCF)\n",
      "• protect the system from systematic errors built into the \n",
      "\n",
      "design\n",
      "• follow certain rules to ensure software can be developed \n",
      "\n",
      "and validated in the right way\n",
      "\n",
      "The five PL-levels (a-e) correspond to certain ranges of PFHD-\n",
      "values (probability of dangerous failure per hour). These \n",
      "indicate how likely it is that a dangerous failure could occur \n",
      "over a period of one hour. In the calculation, it is beneficial \n",
      "to use PFHD-values directly as the PL is a simplification that \n",
      "does not provide equally accurate results.\n",
      "\n",
      "What is the easiest way of complying \n",
      "with the standard?\n",
      "\n",
      "1. Use pre-calculated components\n",
      "As far as it is possible, use the components with pre-\n",
      "calculated PL and PFHD-values. You then minimise \n",
      "the number of calculations to be performed. All ABB \n",
      "Jokab Safety products have pre-calculated PFHD-values.\n",
      "\n",
      "2. Use the calculation tool\n",
      "With the freeware application SISTEMA (see page 16) you \n",
      "avoid making calculations by hand. You also get help to \n",
      "structure your safety solutions and provide the necessary \n",
      "documentation.\n",
      "\n",
      "3. Use Pluto or Vital \n",
      "Use the Pluto safety PLC or Vital safety controller. Not only \n",
      "is it easier to make calculations, but above all it is easier to \n",
      "ensure a higher level of safety.\n",
      "\n"
     ]
    }
   ],
   "source": [
    "print(result[1]['text'])"
   ]
  },
  {
   "cell_type": "code",
   "execution_count": 6,
   "id": "e015f115",
   "metadata": {
    "scrolled": true
   },
   "outputs": [
    {
     "name": "stderr",
     "output_type": "stream",
     "text": [
      "/var/folders/gf/jln4qrcs5qb4c5ywqfg9qmsr0000gn/T/ipykernel_720/1344657105.py:1: LangChainDeprecationWarning: The class `HuggingFaceEmbeddings` was deprecated in LangChain 0.2.2 and will be removed in 1.0. An updated version of the class exists in the :class:`~langchain-huggingface package and should be used instead. To use it run `pip install -U :class:`~langchain-huggingface` and import as `from :class:`~langchain_huggingface import HuggingFaceEmbeddings``.\n",
      "  embedding = HuggingFaceEmbeddings(model_name=\"all-MiniLM-L6-v2\", model_kwargs={\"device\": \"cpu\"})\n",
      "2025-09-22 17:35:26.253737: I tensorflow/core/platform/cpu_feature_guard.cc:193] This TensorFlow binary is optimized with oneAPI Deep Neural Network Library (oneDNN) to use the following CPU instructions in performance-critical operations:  SSE4.1 SSE4.2 AVX AVX2 FMA\n",
      "To enable them in other operations, rebuild TensorFlow with the appropriate compiler flags.\n",
      "/Users/apple/miniconda3/envs/ML/lib/python3.10/site-packages/huggingface_hub/file_download.py:943: FutureWarning: `resume_download` is deprecated and will be removed in version 1.0.0. Downloads always resume when possible. If you want to force a new download, use `force_download=True`.\n",
      "  warnings.warn(\n"
     ]
    }
   ],
   "source": [
    "embedding = HuggingFaceEmbeddings(model_name=\"all-MiniLM-L6-v2\", model_kwargs={\"device\": \"cpu\"})"
   ]
  },
  {
   "cell_type": "code",
   "execution_count": 21,
   "id": "cba7b469",
   "metadata": {},
   "outputs": [
    {
     "data": {
      "text/plain": [
       "'./industrial-safety-pdfs/EN_ISO_13849-1_2TLC172003B02002.pdf'"
      ]
     },
     "execution_count": 21,
     "metadata": {},
     "output_type": "execute_result"
    }
   ],
   "source": [
    "pdf_path"
   ]
  },
  {
   "cell_type": "code",
   "execution_count": 17,
   "id": "c65a06d6",
   "metadata": {
    "scrolled": true
   },
   "outputs": [],
   "source": [
    "import json\n",
    "with open('./sources.json','r') as f:\n",
    "    sources = json.load(f)"
   ]
  },
  {
   "cell_type": "code",
   "execution_count": 33,
   "id": "ec950b83",
   "metadata": {},
   "outputs": [],
   "source": [
    "title=''\n",
    "source=''\n",
    "for d in sources:\n",
    "    if d['path']==pdf_path:\n",
    "        title = d['title']\n",
    "        source = d['url']\n",
    "        break"
   ]
  },
  {
   "cell_type": "code",
   "execution_count": null,
   "id": "05b47501",
   "metadata": {},
   "outputs": [],
   "source": []
  },
  {
   "cell_type": "code",
   "execution_count": 34,
   "id": "eee8c17e",
   "metadata": {},
   "outputs": [],
   "source": [
    "docs_list = [Document(page_content=page['text']+\"\\n\\n\"+page['tables']\n",
    "                      +\"\\n\\n\"+\"\\n\".join(page['imgs'][key] for key in page['imgs'].keys())+\"\\n\\n\"+\n",
    "                      page['headings']+\"\\n\\n\"+'\\n'.join(formula for formula in page['formulas']),\n",
    "                          metadata={\"page\": page['page'],\"imgs\":False if not page['imgs'] else \",\".join(img.split('_')[1] for img in page['imgs']), \n",
    "                                   'pdf_path':pdf_path,\"title\":title,\"source\":source,\"headings\":','.join(heading for heading in page['headings'].split('\\n'))}) for page in result]\n",
    "\n"
   ]
  },
  {
   "cell_type": "code",
   "execution_count": 35,
   "id": "a30e21cf",
   "metadata": {},
   "outputs": [
    {
     "name": "stdout",
     "output_type": "stream",
     "text": [
      "page_content='2 | Safety in control systems according to EN ISO 13849-1\n",
      "\n",
      "New standards for safety \n",
      "in control systems\n",
      "\n",
      "Building a protection system that works in practice and provides sufficient safety requires expertise in several areas. \n",
      "The design of the safety functions in the protection system in order to ensure they provide sufficient reliability is a \n",
      "key ingredient. As help for this there is, for example, the EN ISO 13849-1 standard. With this document we aim to \n",
      "provide an introduction to the standard and its application in conjunction with our products.\n",
      "\n",
      "Introducing the new standard\n",
      "\n",
      "The generation change for standards on safety in control \n",
      "systems introduces new concepts and calculations for \n",
      "machine builders and machine users. The EN 954-1 standard \n",
      "(categories) is being phased out and replaced by EN ISO \n",
      "13849-1 (PL, Performance Level) and EN 62061 (SIL, Safety \n",
      "Integrity Level). Although the deadline for using EN 954-1 is \n",
      "set to 31/12/2011, it is beneficial to start applying the new \n",
      "standards as soon as possible as many new standards no \n",
      "longer refer to EN 954-1.\n",
      "\n",
      "PL or SIL? What should I use?\n",
      "\n",
      "The standard you should use depends on the choice of \n",
      "technology, experience and customer requirements. \n",
      "\n",
      "Choice of technology\n",
      "• PL (Performance Level) is a technology-neutral concept \n",
      "\n",
      "that can be used for electrical, mechanical, pneumatic and \n",
      "hydraulic safety solutions. \n",
      "• SIL (Safety Integrity Level) can, however, only be used for \n",
      "\n",
      "electrical, electronic or programmable safety solutions.\n",
      "\n",
      "Experience\n",
      "EN ISO 13849-1 uses categories from EN 954-1 for defining \n",
      "the system structure, and therefore the step to the new \n",
      "calculations is not so great if you have previous experience \n",
      "of the categories. EN 62061 defines the structures slightly \n",
      "differently.\n",
      "\n",
      "Customer requirements \n",
      "If the customer comes from an industry that is accustomed \n",
      "to using SIL (e.g. the process industry), requirements can \n",
      "also include safety functions for machine safety being SIL \n",
      "rated.\n",
      "\n",
      "We notice that most of our customers prefer PL as it is \n",
      "technology-neutral and that they can use their previous \n",
      "knowledge in the categories. In this document we show \n",
      "some examples of how to build safety solutions in \n",
      "accordance with EN ISO 13849-1 and calculate the reliability \n",
      "of the safety functions to be used for a particular machine. \n",
      "The examples in this document are simplified in order to \n",
      "provide an understanding of the principles. The values used \n",
      "in the examples can change. \n",
      "\n",
      "What is PL (Performance Level)?\n",
      "\n",
      "PL is a measure of the reliability of a safety function. PL is \n",
      "divided into five levels (a-e). PL e gives the best reliability and \n",
      "is equivalent to that required at the highest level of risk. \n",
      "\n",
      "To calculate which level the PL system achieves you \n",
      "need to know the following:\n",
      "• The system’s structure (categories B, 1-4)\n",
      "• The Mean Time To dangerous Failure of the component \n",
      "\n",
      "(MTTFd)\n",
      "• The system’s Diagnostic Coverage (DC)\n",
      "\n",
      "You will also need to:\n",
      "• protect the system against a failure that knocks out both \n",
      "\n",
      "channels (CCF)\n",
      "• protect the system from systematic errors built into the \n",
      "\n",
      "design\n",
      "• follow certain rules to ensure software can be developed \n",
      "\n",
      "and validated in the right way\n",
      "\n",
      "The five PL-levels (a-e) correspond to certain ranges of PFHD-\n",
      "values (probability of dangerous failure per hour). These \n",
      "indicate how likely it is that a dangerous failure could occur \n",
      "over a period of one hour. In the calculation, it is beneficial \n",
      "to use PFHD-values directly as the PL is a simplification that \n",
      "does not provide equally accurate results.\n",
      "\n",
      "What is the easiest way of complying \n",
      "with the standard?\n",
      "\n",
      "1. Use pre-calculated components\n",
      "As far as it is possible, use the components with pre-\n",
      "calculated PL and PFHD-values. You then minimise \n",
      "the number of calculations to be performed. All ABB \n",
      "Jokab Safety products have pre-calculated PFHD-values.\n",
      "\n",
      "2. Use the calculation tool\n",
      "With the freeware application SISTEMA (see page 16) you \n",
      "avoid making calculations by hand. You also get help to \n",
      "structure your safety solutions and provide the necessary \n",
      "documentation.\n",
      "\n",
      "3. Use Pluto or Vital \n",
      "Use the Pluto safety PLC or Vital safety controller. Not only \n",
      "is it easier to make calculations, but above all it is easier to \n",
      "ensure a higher level of safety.\n",
      "\n",
      "\n",
      "\n",
      "\n",
      "\n",
      "\n",
      "\n",
      "New standards for safety \n",
      "in control systems \n",
      "Introducing the new standard \n",
      "PL or SIL? What should I use? \n",
      "• \n",
      "• \n",
      "What is PL (Performance Level)? \n",
      "• \n",
      "• \n",
      "• \n",
      "• \n",
      "• \n",
      "• \n",
      "What is the easiest way of complying \n",
      "with the standard? \n",
      "1. \n",
      "2. \n",
      "3. \n",
      "\n",
      "' metadata={'page': 2, 'imgs': False, 'pdf_path': './industrial-safety-pdfs/EN_ISO_13849-1_2TLC172003B02002.pdf', 'title': 'IFA â€” SISTEMA Cookbook 1', 'source': 'https://www.dguv.de/medien/ifa/en/pra/softwa/sistema/kochbuch/sistema_cookbook1_end.pdf', 'headings': ',New standards for safety ,in control systems ,Introducing the new standard ,PL or SIL? What should I use? ,• ,• ,What is PL (Performance Level)? ,• ,• ,• ,• ,• ,• ,What is the easiest way of complying ,with the standard? ,1. ,2. ,3. '}\n"
     ]
    }
   ],
   "source": [
    "print(docs_list[1])"
   ]
  },
  {
   "cell_type": "code",
   "execution_count": 37,
   "id": "3b789ea9",
   "metadata": {},
   "outputs": [],
   "source": [
    "text_splitter = RecursiveCharacterTextSplitter.from_tiktoken_encoder(\n",
    "    chunk_size=500, chunk_overlap=200\n",
    ")\n",
    "\n",
    "doc_splits = text_splitter.split_documents(docs_list)"
   ]
  },
  {
   "cell_type": "code",
   "execution_count": 38,
   "id": "211d2115",
   "metadata": {
    "scrolled": true
   },
   "outputs": [
    {
     "name": "stdout",
     "output_type": "stream",
     "text": [
      "page_content='What is the easiest way of complying \n",
      "with the standard?\n",
      "\n",
      "1. Use pre-calculated components\n",
      "As far as it is possible, use the components with pre-\n",
      "calculated PL and PFHD-values. You then minimise \n",
      "the number of calculations to be performed. All ABB \n",
      "Jokab Safety products have pre-calculated PFHD-values.\n",
      "\n",
      "2. Use the calculation tool\n",
      "With the freeware application SISTEMA (see page 16) you \n",
      "avoid making calculations by hand. You also get help to \n",
      "structure your safety solutions and provide the necessary \n",
      "documentation.\n",
      "\n",
      "3. Use Pluto or Vital \n",
      "Use the Pluto safety PLC or Vital safety controller. Not only \n",
      "is it easier to make calculations, but above all it is easier to \n",
      "ensure a higher level of safety.\n",
      "\n",
      "\n",
      "\n",
      "\n",
      "\n",
      "\n",
      "\n",
      "New standards for safety \n",
      "in control systems \n",
      "Introducing the new standard \n",
      "PL or SIL? What should I use? \n",
      "• \n",
      "• \n",
      "What is PL (Performance Level)? \n",
      "• \n",
      "• \n",
      "• \n",
      "• \n",
      "• \n",
      "• \n",
      "What is the easiest way of complying \n",
      "with the standard? \n",
      "1. \n",
      "2. \n",
      "3.' metadata={'page': 2, 'imgs': False, 'pdf_path': './industrial-safety-pdfs/EN_ISO_13849-1_2TLC172003B02002.pdf', 'title': 'IFA â€” SISTEMA Cookbook 1', 'source': 'https://www.dguv.de/medien/ifa/en/pra/softwa/sistema/kochbuch/sistema_cookbook1_end.pdf', 'headings': ',New standards for safety ,in control systems ,Introducing the new standard ,PL or SIL? What should I use? ,• ,• ,What is PL (Performance Level)? ,• ,• ,• ,• ,• ,• ,What is the easiest way of complying ,with the standard? ,1. ,2. ,3. '}\n"
     ]
    }
   ],
   "source": [
    "print(doc_splits[4])"
   ]
  },
  {
   "cell_type": "code",
   "execution_count": null,
   "id": "b21010a2",
   "metadata": {},
   "outputs": [],
   "source": []
  },
  {
   "cell_type": "code",
   "execution_count": 7,
   "id": "424bce46",
   "metadata": {
    "scrolled": true
   },
   "outputs": [
    {
     "name": "stderr",
     "output_type": "stream",
     "text": [
      "/var/folders/gf/jln4qrcs5qb4c5ywqfg9qmsr0000gn/T/ipykernel_720/1275157746.py:1: LangChainDeprecationWarning: The class `Chroma` was deprecated in LangChain 0.2.9 and will be removed in 1.0. An updated version of the class exists in the :class:`~langchain-chroma package and should be used instead. To use it run `pip install -U :class:`~langchain-chroma` and import as `from :class:`~langchain_chroma import Chroma``.\n",
      "  vectorstore = Chroma(\n"
     ]
    }
   ],
   "source": [
    "vectorstore = Chroma(\n",
    "    collection_name=\"industrial_docs2\",\n",
    "    embedding_function=embedding,\n",
    "    persist_directory=\"./industrial_docs2\",\n",
    "    collection_metadata={\"hnsw:space\": \"cosine\"}\n",
    ")"
   ]
  },
  {
   "cell_type": "code",
   "execution_count": 40,
   "id": "6ff8930e",
   "metadata": {
    "scrolled": true
   },
   "outputs": [
    {
     "data": {
      "text/plain": [
       "['0100ef7d-7d68-43cc-a349-3cda2b103217',\n",
       " 'f8eefc1a-33fc-43cb-bd7e-74b023c5c2b6',\n",
       " '7e2cd230-637a-4f1b-8c4b-5f281784dc95',\n",
       " '8eb1b3c4-e700-4ec2-b25e-7d45ded20bc1',\n",
       " '36043a35-748b-4bab-a0eb-c5714e1cfc1c',\n",
       " 'd1d00750-2f6b-47fe-998c-56ee7655e176',\n",
       " '27116a2a-fedf-419f-be78-4974c8353ef3',\n",
       " '25aaa76e-c29e-4475-aa5a-5a49cb9158f6',\n",
       " 'f968088b-21eb-4b3a-83f9-62c99ae900aa',\n",
       " 'fd759ea0-24e5-4334-b75c-0f1640ee7a9c',\n",
       " '8a68735e-9f8c-424a-85e3-7eba2eabcafb',\n",
       " 'cd4c00a0-02f3-429e-b037-24336db787ce',\n",
       " '53c4f821-0584-4a01-9e66-dfe110b7dc59',\n",
       " 'f6caa5ed-c15c-482b-9a25-d9ba074eb7fc',\n",
       " '3c337100-4bd2-485a-9506-4b99cf6ab224',\n",
       " '682c60a0-951a-41d5-a90f-df28af3b4227',\n",
       " '27773669-7582-40fa-be35-d10739d13629',\n",
       " '11ba46ae-fe9f-4e66-b5f6-836d0ed6b239',\n",
       " '50f26f67-f5fa-4242-9a96-dc1e6959d9f7',\n",
       " '1a450dda-ae89-47dc-b09b-ba45820cc2ea',\n",
       " 'a2f8b784-31e0-48a7-b43d-7570c02f6d22',\n",
       " 'c3c56db6-b071-4606-9a83-8e9257aa5dfa',\n",
       " 'c96f08ec-8610-4324-9579-ceb9a92a7f54',\n",
       " 'f6d60fc8-83fe-438c-9d68-eef0ba2590d0',\n",
       " 'af7e740b-00d5-434a-8170-c25ba8536e82',\n",
       " '71a66a5a-9c36-4c95-a4fc-23976ed788e5',\n",
       " 'e69442fa-1ba8-4404-ba06-a192ae294f66',\n",
       " '4598b55a-515f-4455-a3c2-bfb40be6ab67',\n",
       " '9af0bd98-5d24-4b38-9842-0ab007aa37a5',\n",
       " '0d4ffd4c-f59d-4bed-bf6d-7bcfd164dc3d',\n",
       " '0d47453b-db7a-4225-9378-40ebd924fa80',\n",
       " '84f1f080-051a-4901-9c7b-03ca66820999',\n",
       " '5d75ee04-81b7-4f45-aa7e-98554123f38a',\n",
       " '6f4418be-b101-42a4-b534-a94fd2f6b54e',\n",
       " '2ecf7b88-9945-46dc-91a4-537d31838570',\n",
       " '8714a511-771c-4f18-82a5-267d171b07aa',\n",
       " '5192dc63-9bf7-4ab0-806e-fd9edbd106f8',\n",
       " '984ddd72-8d6e-493d-84bd-6695dfb04a67',\n",
       " '5f8e3445-adff-4372-9532-43c76a6a6ce7',\n",
       " 'e40267a2-40a1-488f-b3bb-df8f61a65bb0',\n",
       " '98dca4dd-3dcb-492e-93bf-9dd39af57a46',\n",
       " '83187d06-b0c7-4a97-86b9-4363597ee6ca',\n",
       " 'b15a945b-d750-4de3-bd20-021d6369a14b',\n",
       " 'c63b0fbb-2bf9-46f2-acb1-c67cbdc54ddc',\n",
       " 'c8b2a9bf-205f-473b-9fc5-07eaaee29f0f',\n",
       " '036e6684-10d9-4e32-98dc-9926a5fa083d',\n",
       " '9f7523a9-d83c-4464-956a-ef5d6a6441d3',\n",
       " '606e4a76-5649-4a47-aa44-da9c7342eb95',\n",
       " '68319fb9-c1f9-402f-bf06-fe242f4155e6',\n",
       " 'd1eb4c35-43dd-47c2-8841-14b71aed5430',\n",
       " 'accbdc88-3135-4110-a5ce-2ab6de9f8c98',\n",
       " '5f3e8033-e197-42fc-bcb9-a1690d2e2fae',\n",
       " 'd89a71bc-48fd-455c-814e-da1927045f6c',\n",
       " '6d01a6aa-78cb-41cb-8ea3-ffb48de4855f']"
      ]
     },
     "execution_count": 40,
     "metadata": {},
     "output_type": "execute_result"
    }
   ],
   "source": [
    "vectorstore.add_documents(documents=doc_splits)"
   ]
  },
  {
   "cell_type": "code",
   "execution_count": 8,
   "id": "3d8b6f10",
   "metadata": {},
   "outputs": [],
   "source": [
    "retriever = vectorstore.as_retriever(\n",
    "                search_type=\"similarity\",\n",
    "                search_kwargs={'k': 5}\n",
    "            )\n"
   ]
  },
  {
   "cell_type": "code",
   "execution_count": 9,
   "id": "4d5c8ff9",
   "metadata": {},
   "outputs": [],
   "source": [
    "query = \"What is the easiest way of complying with the standard?\"\n",
    "topk = retriever.invoke(query)"
   ]
  },
  {
   "cell_type": "code",
   "execution_count": 10,
   "id": "28c11271",
   "metadata": {
    "scrolled": true
   },
   "outputs": [
    {
     "name": "stdout",
     "output_type": "stream",
     "text": [
      "page_content='What is the easiest way of complying \n",
      "with the standard?\n",
      "\n",
      "1. Use pre-calculated components\n",
      "As far as it is possible, use the components with pre-\n",
      "calculated PL and PFHD-values. You then minimise \n",
      "the number of calculations to be performed. All ABB \n",
      "Jokab Safety products have pre-calculated PFHD-values.\n",
      "\n",
      "2. Use the calculation tool\n",
      "With the freeware application SISTEMA (see page 16) you \n",
      "avoid making calculations by hand. You also get help to \n",
      "structure your safety solutions and provide the necessary \n",
      "documentation.\n",
      "\n",
      "3. Use Pluto or Vital \n",
      "Use the Pluto safety PLC or Vital safety controller. Not only \n",
      "is it easier to make calculations, but above all it is easier to \n",
      "ensure a higher level of safety.\n",
      "\n",
      "\n",
      "\n",
      "\n",
      "\n",
      "\n",
      "\n",
      "New standards for safety \n",
      "in control systems \n",
      "Introducing the new standard \n",
      "PL or SIL? What should I use? \n",
      "• \n",
      "• \n",
      "What is PL (Performance Level)? \n",
      "• \n",
      "• \n",
      "• \n",
      "• \n",
      "• \n",
      "• \n",
      "What is the easiest way of complying \n",
      "with the standard? \n",
      "1. \n",
      "2. \n",
      "3.' metadata={'headings': ',New standards for safety ,in control systems ,Introducing the new standard ,PL or SIL? What should I use? ,• ,• ,What is PL (Performance Level)? ,• ,• ,• ,• ,• ,• ,What is the easiest way of complying ,with the standard? ,1. ,2. ,3. ', 'imgs': False, 'page': 2, 'pdf_path': './industrial-safety-pdfs/EN_ISO_13849-1_2TLC172003B02002.pdf', 'source': 'https://www.dguv.de/medien/ifa/en/pra/softwa/sistema/kochbuch/sistema_cookbook1_end.pdf', 'title': 'IFA â€” SISTEMA Cookbook 1'}\n"
     ]
    }
   ],
   "source": [
    "print(topk[1])"
   ]
  },
  {
   "cell_type": "code",
   "execution_count": 13,
   "id": "7196c5df",
   "metadata": {
    "scrolled": true
   },
   "outputs": [
    {
     "data": {
      "text/plain": [
       "['',\n",
       " 'IFA â€” SISTEMA Cookbook 1',\n",
       " '',\n",
       " 'OSHA 3170 â€” Safeguarding Equipment and Protecting Employees from Amputations',\n",
       " 'IFA â€” Functional safety of machine controls (Application of EN ISO 13849), IFA Report 2/2017e']"
      ]
     },
     "execution_count": 13,
     "metadata": {},
     "output_type": "execute_result"
    }
   ],
   "source": [
    "[doc.metadata['title'] for doc in topk]"
   ]
  },
  {
   "cell_type": "code",
   "execution_count": null,
   "id": "86b34b86",
   "metadata": {
    "scrolled": true
   },
   "outputs": [],
   "source": []
  },
  {
   "cell_type": "code",
   "execution_count": 62,
   "id": "cc4c969d",
   "metadata": {
    "scrolled": true
   },
   "outputs": [],
   "source": [
    "results_w_score = vectorstore.similarity_search_with_relevance_scores(query,k=5)"
   ]
  },
  {
   "cell_type": "code",
   "execution_count": 38,
   "id": "dbe247a0",
   "metadata": {},
   "outputs": [],
   "source": []
  },
  {
   "cell_type": "code",
   "execution_count": 63,
   "id": "41300d9d",
   "metadata": {},
   "outputs": [],
   "source": [
    "corpus_for_bm = [result[0].page_content.split(\" \") for result in results_w_score]"
   ]
  },
  {
   "cell_type": "code",
   "execution_count": 64,
   "id": "35930469",
   "metadata": {},
   "outputs": [],
   "source": [
    "bm25 = BM25Okapi(corpus_for_bm)"
   ]
  },
  {
   "cell_type": "code",
   "execution_count": 89,
   "id": "013a626c",
   "metadata": {},
   "outputs": [
    {
     "data": {
      "text/plain": [
       "array([5.14321465, 1.8850707 , 1.65023817, 3.00014685, 1.89485945])"
      ]
     },
     "execution_count": 89,
     "metadata": {},
     "output_type": "execute_result"
    }
   ],
   "source": [
    "doc_scores = bm25.get_scores(query.split(\" \"))\n",
    "doc_scores"
   ]
  },
  {
   "cell_type": "code",
   "execution_count": 72,
   "id": "5013f4f0",
   "metadata": {},
   "outputs": [],
   "source": [
    "max_sc = max(doc_scores)\n",
    "min_sc = min(doc_scores)\n",
    "\n",
    "doc_score_nm = [(score-min_sc)/(max_sc-min_sc) for score in doc_scores]"
   ]
  },
  {
   "cell_type": "code",
   "execution_count": 73,
   "id": "6da3e8b8",
   "metadata": {},
   "outputs": [
    {
     "data": {
      "text/plain": [
       "[1.0, 0.0672299214048557, 0.0, 0.3864637201217327, 0.07003233102361199]"
      ]
     },
     "execution_count": 73,
     "metadata": {},
     "output_type": "execute_result"
    }
   ],
   "source": [
    "doc_score_nm"
   ]
  },
  {
   "cell_type": "code",
   "execution_count": 90,
   "id": "e51abb5d",
   "metadata": {},
   "outputs": [],
   "source": [
    "doc_score_nm = [(2 / math.pi) * math.atan(score) for score in doc_scores]"
   ]
  },
  {
   "cell_type": "code",
   "execution_count": 91,
   "id": "8a4fbf44",
   "metadata": {},
   "outputs": [
    {
     "data": {
      "text/plain": [
       "[0.8777467259170816,\n",
       " 0.689497347227092,\n",
       " 0.6531695855140075,\n",
       " 0.7951765838201098,\n",
       " 0.6908603785259866]"
      ]
     },
     "execution_count": 91,
     "metadata": {},
     "output_type": "execute_result"
    }
   ],
   "source": [
    "doc_score_nm"
   ]
  },
  {
   "cell_type": "code",
   "execution_count": 80,
   "id": "c697537b",
   "metadata": {},
   "outputs": [],
   "source": [
    "\n",
    "\n",
    "# results_w_score = vectorstore.similarity_search_with_score(query,k=5)\n",
    "\n",
    "def rerank(topk):\n",
    "    alpha = 0.6\n",
    "    \n",
    "    corpus_for_bm = [result[0].page_content.split(\" \") for result in topk]\n",
    "    bm25 = BM25Okapi(corpus_for_bm)\n",
    "    doc_scores = bm25.get_scores(query.split(\" \"))\n",
    "    doc_score_nm = [(2 / math.pi) * math.atan(score) for score in doc_scores]\n",
    "    \n",
    "    reranked = []\n",
    "    for i,top in enumerate(topk):\n",
    "        final_score = (alpha*topk[i][1])+((1-alpha)*doc_score_nm[i])\n",
    "        \n",
    "        reranked.append([topk[i][0],topk[i][1],doc_score_nm[i],final_score])\n",
    "#         topk[i].append(final_score)\n",
    "        \n",
    "    reranked = sorted(reranked,key = lambda x:x[3],reverse=True)\n",
    "    return reranked\n",
    "    "
   ]
  },
  {
   "cell_type": "code",
   "execution_count": null,
   "id": "37876ab8",
   "metadata": {},
   "outputs": [],
   "source": []
  },
  {
   "cell_type": "code",
   "execution_count": 81,
   "id": "2860f7cc",
   "metadata": {},
   "outputs": [],
   "source": [
    "r = rerank(results_w_score)"
   ]
  },
  {
   "cell_type": "code",
   "execution_count": 84,
   "id": "f45c86ec",
   "metadata": {
    "scrolled": false
   },
   "outputs": [
    {
     "data": {
      "text/plain": [
       "[Document(metadata={'headings': ',New standards for safety ,in control systems ,Introducing the new standard ,PL or SIL? What should I use? ,• ,• ,What is PL (Performance Level)? ,• ,• ,• ,• ,• ,• ,What is the easiest way of complying ,with the standard? ,1. ,2. ,3. ', 'imgs': False, 'page': 2, 'pdf_path': './industrial-safety-pdfs/EN_ISO_13849-1_2TLC172003B02002.pdf'}, page_content='What is the easiest way of complying \\nwith the standard?\\n\\n1. Use pre-calculated components\\nAs far as it is possible, use the components with pre-\\ncalculated PL and PFHD-values. You then minimise \\nthe number of calculations to be performed. All ABB \\nJokab\\xa0Safety products have pre-calculated PFHD-values.\\n\\n2. Use the calculation tool\\nWith the freeware application SISTEMA (see page 16) you \\navoid making calculations by hand. You also get help to \\nstructure your safety solutions and provide the necessary \\ndocumentation.\\n\\n3. Use Pluto or Vital \\nUse the Pluto safety PLC or Vital safety controller. Not only \\nis it easier to make calculations, but above all it is easier to \\nensure a higher level of safety.\\n\\n\\n\\n\\n\\n\\n\\nNew standards for safety \\nin control systems \\nIntroducing the new standard \\nPL or SIL? What should I use? \\n• \\n• \\nWhat is PL (Performance Level)? \\n• \\n• \\n• \\n• \\n• \\n• \\nWhat is the easiest way of complying \\nwith the standard? \\n1. \\n2. \\n3.'),\n",
       " 0.5122175128725391,\n",
       " 0.8777467259170816,\n",
       " 0.6584291980903562]"
      ]
     },
     "execution_count": 84,
     "metadata": {},
     "output_type": "execute_result"
    }
   ],
   "source": [
    "r[0]"
   ]
  },
  {
   "cell_type": "code",
   "execution_count": 90,
   "id": "c9530546",
   "metadata": {},
   "outputs": [
    {
     "data": {
      "text/plain": [
       "{'headings': ',New standards for safety ,in control systems ,Introducing the new standard ,PL or SIL? What should I use? ,• ,• ,What is PL (Performance Level)? ,• ,• ,• ,• ,• ,• ,What is the easiest way of complying ,with the standard? ,1. ,2. ,3. ',\n",
       " 'imgs': False,\n",
       " 'page': 2,\n",
       " 'pdf_path': './industrial-safety-pdfs/EN_ISO_13849-1_2TLC172003B02002.pdf'}"
      ]
     },
     "execution_count": 90,
     "metadata": {},
     "output_type": "execute_result"
    }
   ],
   "source": [
    "r[0][0].metadata"
   ]
  },
  {
   "cell_type": "code",
   "execution_count": 83,
   "id": "5a5dac16",
   "metadata": {
    "scrolled": true
   },
   "outputs": [
    {
     "data": {
      "text/plain": [
       "(Document(metadata={'headings': ',New standards for safety ,in control systems ,Introducing the new standard ,PL or SIL? What should I use? ,• ,• ,What is PL (Performance Level)? ,• ,• ,• ,• ,• ,• ,What is the easiest way of complying ,with the standard? ,1. ,2. ,3. ', 'imgs': False, 'page': 2, 'pdf_path': './industrial-safety-pdfs/EN_ISO_13849-1_2TLC172003B02002.pdf'}, page_content='What is the easiest way of complying \\nwith the standard?\\n\\n1. Use pre-calculated components\\nAs far as it is possible, use the components with pre-\\ncalculated PL and PFHD-values. You then minimise \\nthe number of calculations to be performed. All ABB \\nJokab\\xa0Safety products have pre-calculated PFHD-values.\\n\\n2. Use the calculation tool\\nWith the freeware application SISTEMA (see page 16) you \\navoid making calculations by hand. You also get help to \\nstructure your safety solutions and provide the necessary \\ndocumentation.\\n\\n3. Use Pluto or Vital \\nUse the Pluto safety PLC or Vital safety controller. Not only \\nis it easier to make calculations, but above all it is easier to \\nensure a higher level of safety.\\n\\n\\n\\n\\n\\n\\n\\nNew standards for safety \\nin control systems \\nIntroducing the new standard \\nPL or SIL? What should I use? \\n• \\n• \\nWhat is PL (Performance Level)? \\n• \\n• \\n• \\n• \\n• \\n• \\nWhat is the easiest way of complying \\nwith the standard? \\n1. \\n2. \\n3.'),\n",
       " 0.5122175128725391)"
      ]
     },
     "execution_count": 83,
     "metadata": {},
     "output_type": "execute_result"
    }
   ],
   "source": [
    "results_w_score[0]"
   ]
  },
  {
   "cell_type": "code",
   "execution_count": null,
   "id": "5609ff28",
   "metadata": {},
   "outputs": [],
   "source": []
  },
  {
   "cell_type": "code",
   "execution_count": 137,
   "id": "6908271e",
   "metadata": {},
   "outputs": [],
   "source": [
    "class AgentState(TypedDict):\n",
    "    query: str\n",
    "    k:int\n",
    "    pdf_path: list[str]\n",
    "    result: str\n",
    "    imgs: list[str]\n",
    "    paper_url: str\n",
    "    next_node: str\n",
    "    prev_node: str\n",
    "    chat_history: List[BaseMessage] "
   ]
  },
  {
   "cell_type": "code",
   "execution_count": 155,
   "id": "81e4375b",
   "metadata": {},
   "outputs": [],
   "source": [
    "def rerank(topk,query):\n",
    "    alpha = 0.6\n",
    "    \n",
    "    corpus_for_bm = [result[0].page_content.split(\" \") for result in topk]\n",
    "\n",
    "    bm25 = BM25Okapi(corpus_for_bm)\n",
    "    doc_scores = bm25.get_scores(query.split(\" \"))\n",
    "    doc_score_nm = [(2 / math.pi) * math.atan(score) for score in doc_scores]\n",
    "    \n",
    "    reranked = []\n",
    "    for i,top in enumerate(topk):\n",
    "        final_score = (alpha*topk[i][1])+((1-alpha)*doc_score_nm[i])\n",
    "        \n",
    "        reranked.append([topk[i][0],topk[i][1],doc_score_nm[i],final_score])\n",
    "        \n",
    "    reranked = sorted(reranked,key = lambda x:x[3],reverse=True)\n",
    "    return reranked"
   ]
  },
  {
   "cell_type": "code",
   "execution_count": 221,
   "id": "4cc8fc2f",
   "metadata": {},
   "outputs": [],
   "source": [
    "ret_chunks = []"
   ]
  },
  {
   "cell_type": "code",
   "execution_count": 238,
   "id": "53cc0533",
   "metadata": {},
   "outputs": [],
   "source": [
    "class Agent:\n",
    "    def __init__(self,vdb_name:str,vdb_path:str,api_key:str):\n",
    "        self._api_key = api_key\n",
    "        self._embedding = HuggingFaceEmbeddings(model_name=\"all-MiniLM-L6-v2\", model_kwargs={\"device\": \"cpu\"})\n",
    "\n",
    "        self._vectorstore = Chroma(\n",
    "            collection_name=vdb_name,\n",
    "            embedding_function=self._embedding,\n",
    "            persist_directory=vdb_path,\n",
    "            collection_metadata={\"hnsw:space\": \"cosine\"}\n",
    "        )\n",
    "        \n",
    "        \n",
    "        self._parser = Parser(api_key=api_key)\n",
    "        \n",
    "        self._text_splitter = RecursiveCharacterTextSplitter.from_tiktoken_encoder(\n",
    "            chunk_size=500, chunk_overlap=250\n",
    "        )\n",
    "        \n",
    "        self._llm = init_chat_model(\"groq:meta-llama/llama-4-scout-17b-16e-instruct\",temperature=0.2,api_key= api_key)\n",
    "    \n",
    "\n",
    "    def _parse_and_embed(self,state:AgentState):\n",
    "        global log_messages\n",
    "#         log_messages.append(\"In parse and embed\")\n",
    "        \n",
    "        print(\"In parse_and_embed\")\n",
    "        \n",
    "        for pdf in state['pdf_path']:\n",
    "            print(f\"Parsing {pdf}\")\n",
    "            result = self._parser.parse_pdf(pdf)\n",
    "            pdf_path = \"/\".join(pdf.split('/')[:-1])+\"/\"+secure_filename(pdf.split('/')[-1])\n",
    "        \n",
    "            title,source = result[0]['title'],result[0]['source']\n",
    "            \n",
    "            docs_list = [Document(page_content=page['text']+\"\\n\\n\"+page['tables']\n",
    "                      +\"\\n\\n\"+\"\\n\".join(page['imgs'][key] for key in page['imgs'].keys())+\"\\n\\n\"+\n",
    "                      page['headings']+\"\\n\\n\"+'\\n'.join(formula for formula in page['formulas']),\n",
    "                          metadata={\"page\": page['page'],\"imgs\":False if not page['imgs'] else \",\".join(img.split('_')[1] for img in page['imgs']), \n",
    "                                   'pdf_path':pdf,\"title\":title,\"source\":source,\"headings\":','.join(heading for heading in page['headings'].split('\\n'))}) for page in result]\n",
    "\n",
    "\n",
    "\n",
    "\n",
    "\n",
    "\n",
    "            doc_splits = self._text_splitter.split_documents(docs_list)\n",
    "\n",
    "            self._vectorstore.add_documents(documents=doc_splits)\n",
    "        \n",
    "            print(f\"parsed and embedded the pdf {pdf}\")\n",
    "\n",
    "            return {'next_node':\"rag_and_generate\",'prev_node':'parse_and_embed'}\n",
    "\n",
    "   \n",
    "    def _rag_and_generate(self,state:AgentState):\n",
    "        global log_messages, ret_chunks\n",
    "        print(\"In rag_and_generate\")\n",
    "       \n",
    "        docs = self._vectorstore.similarity_search_with_relevance_scores(state['query'],k=state['k']*2)\n",
    "#         print(docs)\n",
    "        reranked = rerank(docs,state['query'])\n",
    "\n",
    "        content = \"\\n\\n\".join(docs[0].page_content+\"\\n\\n\\n\"+\"PDF Title:\"+docs[0].metadata['title']+'\\nPDF Source:'+docs[0].metadata['source']+\"\\nPage:\"+str(docs[0].metadata['page']) for docs in reranked[:state['k']])\n",
    "        \n",
    "        for t in reranked[:state['k']]:\n",
    "            z = t[0].to_json()\n",
    "            z['similarity_score'] = t[1]\n",
    "            ret_chunks.append(z)\n",
    "        \n",
    "        if reranked[0][3]>0.4:\n",
    "            prompt = ChatPromptTemplate.from_messages([\n",
    "                    (\"system\",\"\"\"Use the following pieces of context to answer the question at the end.\n",
    "                    If you don't know the answer, just say that you don't know, don't try to make up an answer.\n",
    "                    Keep the answer as concise as possible. Try to explain as descriptive as possible.\n",
    "                    Stay true to the contents. Make sure the answer is long and descriptive.\n",
    "                    Always say \"thanks for asking!\" at the end of the answer\n",
    "                    Cite the Title and Source Url at the bottom of response  from all the context.\"\"\"),\n",
    "                    MessagesPlaceholder('chat_history'),\n",
    "                    (\n",
    "                        \"human\", [\n",
    "                            {\"type\": \"text\", \"text\": \"Context: {context}\\n\\nInput: {input}\"},\n",
    "                        ]\n",
    "                    )\n",
    "            ])\n",
    "            chain = prompt | self._llm\n",
    "\n",
    "            result = chain.invoke({\n",
    "                \"input\":state['query'],\n",
    "                \"chat_history\":state['chat_history'],\n",
    "                \"context\":content\n",
    "            })\n",
    "            state[\"chat_history\"].append(HumanMessage(content=state['query']))\n",
    "            state[\"chat_history\"].append(AIMessage(content=result.content))\n",
    "\n",
    "            return {'result': result.content,'imgs':[],'prev_node':\"rag_and_generate\"} \n",
    "            \n",
    "        \n",
    "        else:\n",
    "            print('='*20)\n",
    "            print(\"Score: \",reranked[0][3])\n",
    "            print('='*20)\n",
    "            \n",
    "            return {'result': \"Seems, like don't have much information to answer that question.\",'imgs':[],'prev_node':\"rag_and_generate\"}  \n",
    "            \n",
    "        \n",
    "            \n",
    "        \n",
    "         \n",
    "\n",
    "    def _router(self,state:AgentState):\n",
    "        print(\"In router\")\n",
    "        \n",
    "        if state['pdf_path'] == None or state['pdf_path']==[]:\n",
    "            return {'next_node':'rag_and_generate','prev_node':'router'}\n",
    "        else:\n",
    "            return {'next_node':'parse_and_embed','prev_node':'router'}\n",
    "    \n",
    "\n",
    "    def create_agent(self):\n",
    "        graph = StateGraph(AgentState)\n",
    "        checkpointer = MemorySaver()\n",
    "\n",
    "        graph.add_node(\"Router\",self._router)\n",
    "        graph.add_node(\"parse_and_embed\",self._parse_and_embed)\n",
    "        graph.add_node(\"rag_and_generate\",self._rag_and_generate)\n",
    "      \n",
    "        \n",
    "        graph.set_entry_point(\"Router\")\n",
    "\n",
    "\n",
    "        graph.add_edge(\"parse_and_embed\",\"rag_and_generate\")\n",
    "        graph.add_edge(\"rag_and_generate\",END)\n",
    "\n",
    "        graph.add_conditional_edges(\n",
    "            \"Router\",\n",
    "            lambda state: state['next_node'],\n",
    "            {\n",
    "                \"parse_and_embed\":\"parse_and_embed\",\n",
    "                \"rag_and_generate\":\"rag_and_generate\",\n",
    "            }\n",
    "        )\n",
    "\n",
    "        return graph.compile(checkpointer=checkpointer)\n",
    "    "
   ]
  },
  {
   "cell_type": "code",
   "execution_count": 239,
   "id": "0e4f3cbb",
   "metadata": {},
   "outputs": [
    {
     "name": "stderr",
     "output_type": "stream",
     "text": [
      "/Users/apple/miniconda3/envs/ML/lib/python3.10/site-packages/huggingface_hub/file_download.py:943: FutureWarning: `resume_download` is deprecated and will be removed in version 1.0.0. Downloads always resume when possible. If you want to force a new download, use `force_download=True`.\n",
      "  warnings.warn(\n"
     ]
    }
   ],
   "source": [
    "agent=Agent(vdb_name=\"industrial_docs2\",vdb_path=\"./industrial_docs2\",api_key=api_key)\n",
    "\n",
    "agent = agent.create_agent()"
   ]
  },
  {
   "cell_type": "code",
   "execution_count": 240,
   "id": "62f486f3",
   "metadata": {},
   "outputs": [
    {
     "data": {
      "image/png": "[encoded data removed]",
      "text/plain": [
       "<IPython.core.display.Image object>"
      ]
     },
     "metadata": {},
     "output_type": "display_data"
    }
   ],
   "source": [
    "from IPython.display import Image, display\n",
    "display(Image(agent.get_graph(xray=True).draw_mermaid_png()))"
   ]
  },
  {
   "cell_type": "code",
   "execution_count": 241,
   "id": "6bb89751",
   "metadata": {},
   "outputs": [
    {
     "name": "stdout",
     "output_type": "stream",
     "text": [
      "In router\n",
      "In rag_and_generate\n"
     ]
    }
   ],
   "source": [
    "query = \"What is the easiest way of complying with the standard?\"\n",
    "\n",
    "thread_config = {\"configurable\":{\"thread_id\":\"some_id\"}}\n",
    "\n",
    "result = agent.invoke({\n",
    "    \"query\":query,\n",
    "    \"pdf_path\":None,\n",
    "    \"result\":\"\",\n",
    "    \"imgs\":[],\n",
    "    \"paper_url\":None,\n",
    "    \"next_node\":None,\n",
    "    \"chat_history\":[]\n",
    "},config=thread_config)"
   ]
  },
  {
   "cell_type": "code",
   "execution_count": 242,
   "id": "cfa7e6fb",
   "metadata": {},
   "outputs": [
    {
     "name": "stdout",
     "output_type": "stream",
     "text": [
      "The easiest way of complying with the standard is to follow one of the three methods outlined:\n",
      "\n",
      "1. **Use pre-calculated components**: Utilize components with pre-calculated PL (Performance Level) and PFHD (probability of dangerous failure per hour) values to minimize the number of calculations required. ABB Jokab Safety products, for instance, have pre-calculated PFHD-values.\n",
      "\n",
      "2. **Use the calculation tool**: Leverage the freeware application SISTEMA to avoid manual calculations, structure safety solutions, and provide necessary documentation.\n",
      "\n",
      "3. **Use Pluto or Vital**: Employ the Pluto safety PLC or Vital safety controller to simplify calculations and ensure a higher level of safety.\n",
      "\n",
      "By adopting one of these approaches, you can streamline the process of complying with the standard, ensuring a more efficient and effective safety solution.\n",
      "\n",
      "Thanks for asking!\n",
      "\n",
      "Sources:\n",
      "- ./industrial-safety-pdfs/EN_ISO_13849-1_2TLC172003B02002.pdf (Page: 2)\n"
     ]
    }
   ],
   "source": [
    "print(result['result'])"
   ]
  },
  {
   "cell_type": "code",
   "execution_count": null,
   "id": "226a6adf",
   "metadata": {
    "scrolled": true
   },
   "outputs": [],
   "source": []
  },
  {
   "cell_type": "code",
   "execution_count": null,
   "id": "9a23a194",
   "metadata": {},
   "outputs": [],
   "source": []
  },
  {
   "cell_type": "code",
   "execution_count": null,
   "id": "32e043d5",
   "metadata": {},
   "outputs": [],
   "source": []
  },
  {
   "cell_type": "code",
   "execution_count": null,
   "id": "5c2e4387",
   "metadata": {},
   "outputs": [],
   "source": []
  },
  {
   "cell_type": "code",
   "execution_count": null,
   "id": "86efdaa9",
   "metadata": {},
   "outputs": [],
   "source": []
  }
 ],
 "metadata": {
  "kernelspec": {
   "display_name": "Python 3 (ipykernel)",
   "language": "python",
   "name": "python3"
  },
  "language_info": {
   "codemirror_mode": {
    "name": "ipython",
    "version": 3
   },
   "file_extension": ".py",
   "mimetype": "text/x-python",
   "name": "python",
   "nbconvert_exporter": "python",
   "pygments_lexer": "ipython3",
   "version": "3.10.13"
  }
 },
 "nbformat": 4,
 "nbformat_minor": 5
}
